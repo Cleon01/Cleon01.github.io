{
 "cells": [
  {
   "cell_type": "markdown",
   "metadata": {},
   "source": [
    "# RNN and BPTT"
   ]
  },
  {
   "cell_type": "code",
   "execution_count": 1,
   "metadata": {},
   "outputs": [],
   "source": [
    "# to avoid dead kernel error when using Pytorch.\n",
    "import os\n",
    "os.environ[\"KMP_DUPLICATE_LIB_OK\"]=\"TRUE\""
   ]
  },
  {
   "cell_type": "markdown",
   "metadata": {},
   "source": [
    "# Import"
   ]
  },
  {
   "cell_type": "code",
   "execution_count": 2,
   "metadata": {},
   "outputs": [],
   "source": [
    "import numpy as np\n",
    "import matplotlib.pylab as plt\n",
    "import torch\n",
    "import torch.nn as nn\n",
    "import copy\n",
    "from tqdm import tqdm\n",
    "from termcolor import colored  # for printing coloured text\n",
    "device = 'cuda' if torch.cuda.is_available() else 'cpu'"
   ]
  },
  {
   "cell_type": "markdown",
   "metadata": {},
   "source": [
    "# Dataset: \"Origin of Species\""
   ]
  },
  {
   "cell_type": "code",
   "execution_count": 3,
   "metadata": {},
   "outputs": [],
   "source": [
    "import re\n",
    "class Origin(torch.utils.data.Dataset):\n",
    "    '''\n",
    "     ds = Origin(seq_length=10, start=0, stop=-1)\n",
    "     \n",
    "     Creates a PyTorch Dataset object: holding a simplified version\n",
    "     of the text from Charles Darwin's \"On the Origin of Species\".\n",
    "     \n",
    "     The class contains utility functions to convert between the\n",
    "     string-based form of a sequence, and its vector encoding, in which\n",
    "     each character is represented by a one-hot 28-vector corresponding\n",
    "     to the 28 characters in the string\n",
    "       ' .abcdefghijklmnopqrstuvwxyz'  (the first character is a space)\n",
    "     \n",
    "     The target sequences are the same as the inputs, but advanced by\n",
    "     one character.\n",
    "     \n",
    "     Inputs:\n",
    "      seq_length  the number of characters in each sequence\n",
    "      start       the index of the character to start taking sequences from\n",
    "      stop        the index of the character to stop taking sequences from\n",
    "      \n",
    "     Usage:\n",
    "      ds = Origin(seq_length=5, start=7, stop=100)\n",
    "      x,t = ds.__getitem__(0)\n",
    "      print(ds.read_seq(x))   # Produces 'origi'\n",
    "      print(ds.read_seq(t))   # Produces 'rigin'\n",
    "    '''\n",
    "    def __init__(self, seq_length=10, start=0, stop=-1):\n",
    "        self.seq_length = seq_length\n",
    "\n",
    "        orig_text = open('origin_of_species.txt').read().lower()\n",
    "        chars = sorted(list(set(orig_text)))\n",
    "        chars.insert(0, \"\\0\") #Add newline character\n",
    "        vocab_size = len(chars)\n",
    "\n",
    "        char_indices = dict((c, i) for i, c in enumerate(chars))\n",
    "        indices_char = dict((i, c) for i, c in enumerate(chars))\n",
    "        idx = [char_indices[c] for c in orig_text]\n",
    "\n",
    "        # keep only letters, spaces, and periods.\n",
    "        filt_idx = []\n",
    "        for i in idx:\n",
    "            if i<=24 and i!=10:\n",
    "                filt_idx.append(2)\n",
    "            elif i>24 or i==10:\n",
    "                filt_idx.append(i)\n",
    "        blah = ''.join([indices_char[f] for f in filt_idx])\n",
    "        self.text = re.sub(' +', ' ', blah)  # collapse multiple spaces using regular expressions\n",
    "        self.text = self.text[start:stop]\n",
    "        #chars = sorted(list(set(self.text)))\n",
    "        chars = sorted(list(set(' .abcdefghijklmnopqrstuvwxyz')))\n",
    "        self.vocab_size = len(chars)\n",
    "        print('Character set: '+''.join(chars)+' (first char is a space)')\n",
    "\n",
    "        self.char_indices = dict((c, i) for i, c in enumerate(chars))\n",
    "        self.indices_char = dict((i, c) for i, c in enumerate(chars))\n",
    "        self.idx = [self.char_indices[c] for c in self.text]\n",
    "\n",
    "        print('There are '+str(self.vocab_size)+' characters in our character set')\n",
    "\n",
    "    def __len__(self):\n",
    "        return len(self.text) - 1 - self.seq_length\n",
    "    \n",
    "    def __getitem__(self, k):\n",
    "        x = self.idx[k:k+self.seq_length]\n",
    "        t = self.idx[k+1:k+1+self.seq_length]\n",
    "        return self.seq_i2v(x), torch.tensor(t, dtype=torch.long)\n",
    "      \n",
    "    def seq_i2v(self, seq):\n",
    "        x = torch.zeros((len(seq), self.vocab_size))\n",
    "        for k,i in enumerate(seq):\n",
    "            x[k,i] = 1.\n",
    "        return x\n",
    "    \n",
    "    def read_seq(self, x):\n",
    "        idx = [torch.argmax(v).item() for v in x]        \n",
    "        return ''.join(self.indices_char[i] for i in idx)\n",
    "    \n",
    "    def encode_seq(self, c):\n",
    "        idx = [self.char_indices[cc] for cc in c]\n",
    "        return self.seq_i2v(idx)"
   ]
  },
  {
   "cell_type": "code",
   "execution_count": 4,
   "metadata": {},
   "outputs": [
    {
     "name": "stdout",
     "output_type": "stream",
     "text": [
      "Character set:  .abcdefghijklmnopqrstuvwxyz (first char is a space)\n",
      "There are 28 characters in our character set\n"
     ]
    }
   ],
   "source": [
    "# Create the dataset\n",
    "oos = Origin(start=11000, stop=21000, seq_length=10)"
   ]
  },
  {
   "cell_type": "code",
   "execution_count": 5,
   "metadata": {},
   "outputs": [
    {
     "data": {
      "text/plain": [
       "9989"
      ]
     },
     "execution_count": 5,
     "metadata": {},
     "output_type": "execute_result"
    }
   ],
   "source": [
    "# How many sequences?\n",
    "len(oos)"
   ]
  },
  {
   "cell_type": "code",
   "execution_count": 6,
   "metadata": {
    "scrolled": true
   },
   "outputs": [
    {
     "data": {
      "text/plain": [
       "'en yield new varieties our oldest domesticated animals are still capable of rapi'"
      ]
     },
     "execution_count": 6,
     "metadata": {},
     "output_type": "execute_result"
    }
   ],
   "source": [
    "# the original (simplified) text.\n",
    "oos.text[820:900]"
   ]
  },
  {
   "cell_type": "code",
   "execution_count": 7,
   "metadata": {},
   "outputs": [],
   "source": [
    "x, t = oos.__getitem__(0)"
   ]
  },
  {
   "cell_type": "code",
   "execution_count": 8,
   "metadata": {},
   "outputs": [
    {
     "name": "stdout",
     "output_type": "stream",
     "text": [
      "Here is how you can view one of the samples:\n",
      "Sample input: \"treatment \"\n"
     ]
    }
   ],
   "source": [
    "print('Here is how you can view one of the samples:')\n",
    "print(f'Sample input: \"{oos.read_seq(x)}\"')"
   ]
  },
  {
   "cell_type": "code",
   "execution_count": 9,
   "metadata": {},
   "outputs": [],
   "source": [
    "# Create a PyTorch DataLoader\n",
    "dl = torch.utils.data.DataLoader(oos, batch_size=128, shuffle=True)"
   ]
  },
  {
   "cell_type": "markdown",
   "metadata": {},
   "source": [
    "# `GRU` Class"
   ]
  },
  {
   "cell_type": "code",
   "execution_count": 10,
   "metadata": {},
   "outputs": [],
   "source": [
    "class GRU(nn.Module):\n",
    "    '''\n",
    "     net = GRU(dims)\n",
    "     Input:\n",
    "       dims is [I, H], where the input/output layers have I neurons, and the\n",
    "            hidden layer has H neurons.\n",
    "    '''\n",
    "    def __init__(self, dims):\n",
    "        super().__init__()\n",
    "        self.losses = []\n",
    "        \n",
    "        #===== YOUR CODE HERE =====\n",
    "        self.input_dim, self.hidden_dim = dims\n",
    "        self.Uz = nn.Linear(self.input_dim, self.hidden_dim)\n",
    "        self.Wz = nn.Linear(self.hidden_dim, self.hidden_dim)\n",
    "        self.bz = nn.Parameter(torch.zeros(1, self.hidden_dim))\n",
    "        self.Ur = nn.Linear(self.input_dim, self.hidden_dim)\n",
    "        self.Wr = nn.Linear(self.hidden_dim, self.hidden_dim)\n",
    "        self.br = nn.Parameter(torch.zeros(1, self.hidden_dim))\n",
    "        self.Uh = nn.Linear(self.input_dim, self.hidden_dim)\n",
    "        self.Wh = nn.Linear(self.hidden_dim, self.hidden_dim)\n",
    "        self.bh = nn.Parameter(torch.zeros(1, self.hidden_dim))\n",
    "        \n",
    "        self.V = nn.Linear(self.hidden_dim, self.input_dim)\n",
    "        self.by = nn.Parameter(torch.zeros(1, self.input_dim))\n",
    "        \n",
    "    def step(self, x, h):\n",
    "        '''\n",
    "         hnext = net.step(x, h)\n",
    "         \n",
    "         Takes a time step, with input x and current hidden state h.\n",
    "         Returns the new h.\n",
    "         \n",
    "         Inputs:\n",
    "          x      a DxI tensor holding a batch of inputs, where\n",
    "                    D is the batch size, and\n",
    "                    I is the dimension of the inputs\n",
    "          h      a DxH tensor holding a batch of hidden states, where\n",
    "                    H is the number of hidden nodes\n",
    "                \n",
    "         Output:\n",
    "          hnext  a DxH tensor holding the hidden states for the next\n",
    "                    timestep\n",
    "        '''\n",
    "        \n",
    "        zt = nn.Sigmoid()(self.Uz(x) + self.Wz(h) + self.bz)\n",
    "        rt = nn.Sigmoid()(self.Ur(x) + self.Wr(h) + self.br)\n",
    "        ht_tilda = nn.Tanh()(self.Uh(x) + self.Wh(rt * h) + self.bh)\n",
    "        hnext = (1 - zt) * h + zt * ht_tilda\n",
    "        return hnext\n",
    "    \n",
    "    \n",
    "    def output(self, h):\n",
    "        '''\n",
    "         y = net.output(h)\n",
    "         \n",
    "         Given the hidden state, returns the *log* of the output.\n",
    "         ie. for categorical cross-entropy, it should return LogSoftmax.\n",
    "         \n",
    "         Input:\n",
    "          h  a DxH tensor holding a batch of hidden states, where\n",
    "                D is the batch size, and\n",
    "                H is the dimension of the hidden state (number of hidden nodes)\n",
    "                \n",
    "         Output:\n",
    "          y  a DxI tensor holding a batch of outputs, where\n",
    "                I is the dimension of the output\n",
    "        '''\n",
    "        \n",
    "        y = nn.functional.log_softmax(self.V(h) + self.by, dim=1)\n",
    "        return y\n",
    "    \n",
    "    \n",
    "    def forward(self, x):\n",
    "        '''\n",
    "         y = net.forward(x)\n",
    "         \n",
    "         Takes a batch of squences, and returns the batch of output\n",
    "         sequences.\n",
    "         \n",
    "         Inputs:\n",
    "          x   a DxTxI tensor, where\n",
    "                 D is the batch size (number of sequences in the batch)\n",
    "                 T is the sequence length, and\n",
    "                 I is the dimension of the input to the network\n",
    "                 \n",
    "         Output:\n",
    "          y   a DxTxI tensor, as above\n",
    "        '''\n",
    "        x = x.to(device)  # GPU\n",
    "        # to reorder the batch from (D, T, I) to (T, D, I) so that\n",
    "        # we can run the batch through the network, one timestep at a time.\n",
    "        seq_of_batches = torch.einsum('ijk->jik', x)\n",
    "\n",
    "        output_seq = []\n",
    "        T, samples, input_dim = seq_of_batches.shape\n",
    "        h = torch.zeros((samples, self.hidden_dim)).to(device)\n",
    "        for xt in seq_of_batches:\n",
    "            h = self.step(xt, h)\n",
    "            output_seq.append(self.output(h))\n",
    "        y = torch.stack(output_seq, dim=0).to(device)  # (T, batch_size, output_dim)\n",
    "        return torch.einsum('jik->ijk', y)  # (batch_size, T, output_dim)\n",
    "\n",
    "    \n",
    "    def bptt(self, dl, epochs=10, loss_fcn=nn.NLLLoss(), lr=0.001):\n",
    "        '''\n",
    "         net.bptt(dl, epochs=10, loss_fcn=nn.NLLLoss(), lr=0.001)\n",
    "         \n",
    "         Trains the recurrent network using Backprop Through Time.\n",
    "         \n",
    "         Inputs:\n",
    "          dl        PyTorch DataLoader object\n",
    "                    Each batch shoud be shaped DxTxI where\n",
    "                      D is the number of sequences (samples) in the batch,\n",
    "                      T is the length of each sequence, and\n",
    "                      I is dim of each input to the network\n",
    "          epochs    number of epochs to train for\n",
    "          loss_fcn  PyTorch loss function\n",
    "          lr        learning rate\n",
    "        '''\n",
    "        optim = torch.optim.Adam(self.parameters(), lr=lr)  # optimizer\n",
    "        for epoch in tqdm(range(epochs)):\n",
    "            total_loss = 0.\n",
    "            for x,t in (dl):\n",
    "                y = self(x)   # process the batch of sequences\n",
    "                \n",
    "                # Go through output sequences, and compute loss\n",
    "                loss = torch.tensor(0., device=device, requires_grad=True)\n",
    "                for ys,ts in zip(y,t.to(device)):\n",
    "                    loss = loss + loss_fcn(ys, ts)\n",
    "                    \n",
    "                optim.zero_grad()\n",
    "                loss.backward()\n",
    "                optim.step()\n",
    "                total_loss += loss.detach().cpu().item()\n",
    "                \n",
    "            self.losses.append(total_loss/len(dl))\n",
    "        plt.plot(self.losses)\n",
    "        \n",
    "        \n",
    "    def predict(self, x, n=10):\n",
    "        '''\n",
    "         y = net.predict(x, n=10)\n",
    "         \n",
    "         Run the network on sequence x, and then continue to predict\n",
    "         the next n outputs.\n",
    "         \n",
    "         Inputs:\n",
    "          x  a TxI tensor for a single input sequence\n",
    "          n  how many output timesteps to predict\n",
    "          \n",
    "         Output:\n",
    "          y  an (n)xI tensor, holding the sequence of n outputs\n",
    "                predicted after the input sequence\n",
    "        '''\n",
    "        assert len(x.shape)==2\n",
    "        with torch.no_grad():\n",
    "            h = torch.zeros((1, self.hidden_dim)).to(device)\n",
    "            for xx in x:  # step through the given sequence\n",
    "                h = self.step(xx, h)\n",
    "            y = self.output(h)\n",
    "            pred = [y]   # for storing the output sequence\n",
    "            \n",
    "            # take n more steps, and add the network's output\n",
    "            for t in range(n-1):\n",
    "                # Make a one-hot input out of the last output\n",
    "                c = torch.argmax(y)\n",
    "                x = torch.zeros_like(y)\n",
    "                x[0,c] = 1.\n",
    "                # Take a timestep\n",
    "                h = self.step(x, h)\n",
    "                y = self.output(h) # output from prev step becomes input to next step\n",
    "                pred.append(y)\n",
    "                \n",
    "        return torch.stack(pred, dim=0)"
   ]
  },
  {
   "cell_type": "markdown",
   "metadata": {},
   "source": [
    "# Create and train the GRU"
   ]
  },
  {
   "cell_type": "code",
   "execution_count": 11,
   "metadata": {},
   "outputs": [],
   "source": [
    "net = GRU([oos.vocab_size, 400])"
   ]
  },
  {
   "cell_type": "code",
   "execution_count": 12,
   "metadata": {
    "scrolled": true
   },
   "outputs": [
    {
     "name": "stderr",
     "output_type": "stream",
     "text": [
      "100%|██████████████████████████████████████████████████████████████████████████████████| 40/40 [13:15<00:00, 19.88s/it]\n"
     ]
    },
    {
     "data": {
      "image/png": "[encoded data removed]",
      "text/plain": [
       "<Figure size 640x480 with 1 Axes>"
      ]
     },
     "metadata": {},
     "output_type": "display_data"
    }
   ],
   "source": [
    "net.bptt(dl, epochs=40, loss_fcn=nn.NLLLoss(reduction='mean'), lr=0.001)"
   ]
  },
  {
   "cell_type": "code",
   "execution_count": 13,
   "metadata": {},
   "outputs": [],
   "source": [
    "# save the trained network.\n",
    "# torch.save(net.cpu(), 'mygru.pt')"
   ]
  },
  {
   "cell_type": "code",
   "execution_count": 14,
   "metadata": {},
   "outputs": [],
   "source": [
    "#load the trained network\n",
    "# net = torch.load('mygru.pt').to(device)"
   ]
  },
  {
   "cell_type": "markdown",
   "metadata": {},
   "source": [
    "# Evaluate the network"
   ]
  },
  {
   "cell_type": "code",
   "execution_count": 15,
   "metadata": {},
   "outputs": [
    {
     "name": "stdout",
     "output_type": "stream",
     "text": [
      "Input:        ere variat\n",
      "Prediction:   ere variat\u001b[31mion seems \u001b[0m\n",
      "Actual:       ere variations. but \n"
     ]
    }
   ],
   "source": [
    "# Choose a random seed sequence\n",
    "k = np.random.randint(0, high=len(oos))\n",
    "rs = oos.read_seq  # shorthand for the function\n",
    "s = oos.__getitem__(k)[0].to(device)  # s holds the seq\n",
    "\n",
    "# Feed the seq in to the net, and ask for the next 10 characters\n",
    "pred_seq = net.predict(s, n=10).cpu()\n",
    "\n",
    "print(f'Input:        {rs(s)}')\n",
    "print(f'Prediction:   {rs(s)+colored(rs(pred_seq), \"red\")}')\n",
    "snext = oos.__getitem__(k+oos.seq_length)[0]  # the following sequence\n",
    "print(f'Actual:       {rs(s)+rs(snext)}')"
   ]
  },
  {
   "cell_type": "code",
   "execution_count": 16,
   "metadata": {},
   "outputs": [
    {
     "name": "stdout",
     "output_type": "stream",
     "text": [
      "ch species\u001b[31m have pollen utterly worthless in the case of plan\u001b[0m\n"
     ]
    }
   ],
   "source": [
    "# Let's predict a longer sequence\n",
    "word = 'ch species'  # choosing our own see seq\n",
    "v = oos.encode_seq(word)  # encode it\n",
    "y = net.predict(v, n=50)  # predict next 50 characters\n",
    "print(f'{oos.read_seq(v)}'+colored(oos.read_seq(y), 'red'))"
   ]
  },
  {
   "cell_type": "markdown",
   "metadata": {},
   "source": [
    "## Matching string length"
   ]
  },
  {
   "cell_type": "code",
   "execution_count": 17,
   "metadata": {},
   "outputs": [],
   "source": [
    "# Run experiment on a bunch of random seed sequences.\n",
    "# - choose random seed seq\n",
    "# - predict next 100 characters\n",
    "# - find out how many characters match the text\n",
    "\n",
    "result_array = [0] * 101\n",
    "for i in range(200):\n",
    "    k = np.random.randint(0, high=len(oos))\n",
    "    seq = oos.__getitem__(k)[0].to(device)\n",
    "    pred_seq = net.predict(seq, n=100).cpu()\n",
    "    text = oos.read_seq(seq) + oos.read_seq(pred_seq)\n",
    "    count = 0\n",
    "    match = oos.text.find(text[:count])\n",
    "    while match != -1:\n",
    "        if text == text[:count]:\n",
    "            count += 1\n",
    "            break\n",
    "        count += 1\n",
    "        match = oos.text.find(text[:count])\n",
    "    count -= 11\n",
    "    for i in range(count + 1):\n",
    "        result_array[i] += 1"
   ]
  },
  {
   "cell_type": "code",
   "execution_count": 18,
   "metadata": {},
   "outputs": [
    {
     "name": "stdout",
     "output_type": "stream",
     "text": [
      "The number of times the model’s predictions match the subsequent text:\n",
      "for at least 0 characters is 200\n",
      "for at least 1 characters is 200\n",
      "for at least 2 characters is 191\n",
      "for at least 3 characters is 188\n",
      "for at least 4 characters is 181\n",
      "for at least 5 characters is 170\n",
      "for at least 6 characters is 160\n",
      "for at least 7 characters is 150\n",
      "for at least 8 characters is 136\n",
      "for at least 9 characters is 129\n",
      "for at least 10 characters is 122\n",
      "for at least 11 characters is 111\n",
      "for at least 12 characters is 104\n",
      "for at least 13 characters is 98\n",
      "for at least 14 characters is 86\n",
      "for at least 15 characters is 78\n",
      "for at least 16 characters is 77\n",
      "for at least 17 characters is 69\n",
      "for at least 18 characters is 63\n",
      "for at least 19 characters is 58\n",
      "for at least 20 characters is 56\n",
      "for at least 21 characters is 50\n",
      "for at least 22 characters is 45\n",
      "for at least 23 characters is 44\n",
      "for at least 24 characters is 42\n",
      "for at least 25 characters is 40\n",
      "for at least 26 characters is 38\n",
      "for at least 27 characters is 37\n",
      "for at least 28 characters is 30\n",
      "for at least 29 characters is 30\n",
      "for at least 30 characters is 30\n",
      "for at least 31 characters is 27\n",
      "for at least 32 characters is 24\n",
      "for at least 33 characters is 21\n",
      "for at least 34 characters is 19\n",
      "for at least 35 characters is 16\n",
      "for at least 36 characters is 15\n",
      "for at least 37 characters is 13\n",
      "for at least 38 characters is 12\n",
      "for at least 39 characters is 11\n",
      "for at least 40 characters is 11\n",
      "for at least 41 characters is 11\n",
      "for at least 42 characters is 9\n",
      "for at least 43 characters is 9\n",
      "for at least 44 characters is 8\n",
      "for at least 45 characters is 8\n",
      "for at least 46 characters is 8\n",
      "for at least 47 characters is 7\n",
      "for at least 48 characters is 6\n",
      "for at least 49 characters is 6\n",
      "for at least 50 characters is 6\n",
      "for at least 51 characters is 5\n",
      "for at least 52 characters is 4\n",
      "for at least 53 characters is 3\n",
      "for at least 54 characters is 2\n",
      "for at least 55 characters is 1\n",
      "for at least 56 characters is 1\n",
      "for at least 57 characters is 1\n",
      "for at least 58 characters is 0\n",
      "for at least 59 characters is 0\n",
      "for at least 60 characters is 0\n",
      "for at least 61 characters is 0\n",
      "for at least 62 characters is 0\n",
      "for at least 63 characters is 0\n",
      "for at least 64 characters is 0\n",
      "for at least 65 characters is 0\n",
      "for at least 66 characters is 0\n",
      "for at least 67 characters is 0\n",
      "for at least 68 characters is 0\n",
      "for at least 69 characters is 0\n",
      "for at least 70 characters is 0\n",
      "for at least 71 characters is 0\n",
      "for at least 72 characters is 0\n",
      "for at least 73 characters is 0\n",
      "for at least 74 characters is 0\n",
      "for at least 75 characters is 0\n",
      "for at least 76 characters is 0\n",
      "for at least 77 characters is 0\n",
      "for at least 78 characters is 0\n",
      "for at least 79 characters is 0\n",
      "for at least 80 characters is 0\n",
      "for at least 81 characters is 0\n",
      "for at least 82 characters is 0\n",
      "for at least 83 characters is 0\n",
      "for at least 84 characters is 0\n",
      "for at least 85 characters is 0\n",
      "for at least 86 characters is 0\n",
      "for at least 87 characters is 0\n",
      "for at least 88 characters is 0\n",
      "for at least 89 characters is 0\n",
      "for at least 90 characters is 0\n",
      "for at least 91 characters is 0\n",
      "for at least 92 characters is 0\n",
      "for at least 93 characters is 0\n",
      "for at least 94 characters is 0\n",
      "for at least 95 characters is 0\n",
      "for at least 96 characters is 0\n",
      "for at least 97 characters is 0\n",
      "for at least 98 characters is 0\n",
      "for at least 99 characters is 0\n",
      "for at least 100 characters is 0\n"
     ]
    }
   ],
   "source": [
    "print(\"The number of times the model’s predictions match the subsequent text:\")\n",
    "for i in range(len(result_array)):\n",
    "    print(\"for at least \" + str(i) + \" characters is\", result_array[i])"
   ]
  },
  {
   "cell_type": "code",
   "execution_count": 19,
   "metadata": {},
   "outputs": [
    {
     "data": {
      "image/png": "[encoded data removed]",
      "text/plain": [
       "<Figure size 640x480 with 1 Axes>"
      ]
     },
     "metadata": {},
     "output_type": "display_data"
    }
   ],
   "source": [
    "# Plot matching-length vs trials\n",
    "plt.plot(result_array, c = \"red\")\n",
    "plt.xlabel('Matching String Length')\n",
    "plt.ylabel('Trials')\n",
    "for i in range(100):\n",
    "    plt.plot(i, result_array[i], marker='x', c = \"black\")\n",
    "plt.show()"
   ]
  },
  {
   "cell_type": "code",
   "execution_count": null,
   "metadata": {},
   "outputs": [],
   "source": []
  }
 ],
 "metadata": {
  "kernelspec": {
   "display_name": "Python 3 (ipykernel)",
   "language": "python",
   "name": "python3"
  },
  "language_info": {
   "codemirror_mode": {
    "name": "ipython",
    "version": 3
   },
   "file_extension": ".py",
   "mimetype": "text/x-python",
   "name": "python",
   "nbconvert_exporter": "python",
   "pygments_lexer": "ipython3",
   "version": "3.9.16"
  }
 },
 "nbformat": 4,
 "nbformat_minor": 4
}
